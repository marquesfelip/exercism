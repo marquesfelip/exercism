{
 "cells": [
  {
   "cell_type": "code",
   "execution_count": 1,
   "metadata": {},
   "outputs": [
    {
     "ename": "KeyboardInterrupt",
     "evalue": "",
     "output_type": "error",
     "traceback": [
      "\u001b[0;31m---------------------------------------------------------------------------\u001b[0m",
      "\u001b[0;31mKeyboardInterrupt\u001b[0m                         Traceback (most recent call last)",
      "Cell \u001b[0;32mIn[1], line 10\u001b[0m\n\u001b[1;32m      6\u001b[0m result \u001b[38;5;241m=\u001b[39m \u001b[38;5;241m0\u001b[39m\n\u001b[1;32m      8\u001b[0m value_exchanged: \u001b[38;5;28mfloat\u001b[39m \u001b[38;5;241m=\u001b[39m budget \u001b[38;5;241m/\u001b[39m (exchange_rate \u001b[38;5;241m*\u001b[39m ((spread \u001b[38;5;241m/\u001b[39m \u001b[38;5;241m100\u001b[39m) \u001b[38;5;241m+\u001b[39m \u001b[38;5;241m1\u001b[39m))\n\u001b[0;32m---> 10\u001b[0m \u001b[38;5;28;01mwhile\u001b[39;00m (result \u001b[38;5;241m+\u001b[39m denomination) \u001b[38;5;241m<\u001b[39m value_exchanged:\n\u001b[1;32m     11\u001b[0m     result \u001b[38;5;241m+\u001b[39m\u001b[38;5;241m=\u001b[39m denomination\n\u001b[1;32m     13\u001b[0m \u001b[38;5;28mprint\u001b[39m(result)\n",
      "\u001b[0;31mKeyboardInterrupt\u001b[0m: "
     ]
    }
   ],
   "source": [
    "budget: float = 470000\n",
    "exchange_rate: float = 0.00000009\n",
    "spread: int = 30\n",
    "denomination: int = 700\n",
    "\n",
    "result = 0\n",
    "\n",
    "value_exchanged: float = budget / (exchange_rate * ((spread / 100) + 1))\n",
    "\n",
    "while (result + denomination) < value_exchanged:\n",
    "    result += denomination\n",
    "\n",
    "print(result)"
   ]
  }
 ],
 "metadata": {
  "kernelspec": {
   "display_name": "Python 3",
   "language": "python",
   "name": "python3"
  },
  "language_info": {
   "codemirror_mode": {
    "name": "ipython",
    "version": 3
   },
   "file_extension": ".py",
   "mimetype": "text/x-python",
   "name": "python",
   "nbconvert_exporter": "python",
   "pygments_lexer": "ipython3",
   "version": "3.11.1"
  }
 },
 "nbformat": 4,
 "nbformat_minor": 2
}
